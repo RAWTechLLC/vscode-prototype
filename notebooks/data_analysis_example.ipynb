{
 "cells": [
  {
   "cell_type": "markdown",
   "metadata": {},
   "source": [
    "# Data Analysis Example\n",
    "\n",
    "This notebook demonstrates VS Code's Jupyter integration features using our DataProcessor class."
   ]
  },
  {
   "cell_type": "code",
   "execution_count": null,
   "metadata": {},
   "source": [
    "import pandas as pd\n",
    "import numpy as np\n",
    "from matplotlib import pyplot as plt\n",
    "%matplotlib inline\n",
    "\n",
    "# Import our DataProcessor class\n",
    "import sys\n",
    "sys.path.append('..')\n",
    "from src.data_processor import DataProcessor"
   ]
  },
  {
   "cell_type": "markdown",
   "metadata": {},
   "source": [
    "## Creating Sample Data\n",
    "\n",
    "Let's create some sample data to work with."
   ]
  },
  {
   "cell_type": "code",
   "execution_count": null,
   "metadata": {},
   "source": [
    "# Generate sample data\n",
    "np.random.seed(42)\n",
    "sample_data = pd.DataFrame({\n",
    "    'id': range(1, 101),\n",
    "    'value': np.random.normal(100, 15, 100),\n",
    "    'category': np.random.choice(['A', 'B', 'C'], 100),\n",
    "    'date': pd.date_range(start='2024-01-01', periods=100)\n",
    "})\n",
    "\n",
    "# Add some null values\n",
    "sample_data.loc[sample_data.sample(10).index, 'value'] = None\n",
    "\n",
    "sample_data.head()"
   ]
  },
  {
   "cell_type": "markdown",
   "metadata": {},
   "source": [
    "## Initialize DataProcessor\n",
    "\n",
    "Create an instance of our DataProcessor class with the sample data."
   ]
  },
  {
   "cell_type": "code",
   "execution_count": null,
   "metadata": {},
   "source": [
    "processor = DataProcessor(sample_data)\n",
    "\n",
    "# Generate a summary of the data\n",
    "summary = processor.generate_summary()\n",
    "print(\"Data Summary:\")\n",
    "for key, value in summary.items():\n",
    "    print(f\"{key}: {value}\")"
   ]
  },
  {
   "cell_type": "markdown",
   "metadata": {},
   "source": [
    "## Data Cleaning\n",
    "\n",
    "Clean the data by removing null values and duplicates."
   ]
  },
  {
   "cell_type": "code",
   "execution_count": null,
   "metadata": {},
   "source": [
    "# Check missing values before cleaning\n",
    "print(\"Missing values before cleaning:\")\n",
    "print(processor.data.isnull().sum())\n",
    "\n",
    "# Clean the data\n",
    "processor.clean_data()\n",
    "\n",
    "# Check missing values after cleaning\n",
    "print(\"\\nMissing values after cleaning:\")\n",
    "print(processor.data.isnull().sum())"
   ]
  },
  {
   "cell_type": "markdown",
   "metadata": {},
   "source": [
    "## Statistical Analysis\n",
    "\n",
    "Calculate and visualize statistics for the 'value' column."
   ]
  },
  {
   "cell_type": "code",
   "execution_count": null,
   "metadata": {},
   "source": [
    "# Calculate statistics\n",
    "stats = processor.calculate_statistics('value')\n",
    "print(\"Statistics for 'value' column:\")\n",
    "for key, value in stats.items():\n",
    "    print(f\"{key}: {value:.2f}\")\n",
    "\n",
    "# Create a histogram\n",
    "plt.figure(figsize=(10, 6))\n",
    "plt.hist(processor.data['value'], bins=20, edgecolor='black')\n",
    "plt.title('Distribution of Values')\n",
    "plt.xlabel('Value')\n",
    "plt.ylabel('Frequency')\n",
    "plt.grid(True)\n",
    "plt.show()"
   ]
  },
  {
   "cell_type": "markdown",
   "metadata": {},
   "source": [
    "## Data Filtering\n",
    "\n",
    "Demonstrate filtering capabilities."
   ]
  },
  {
   "cell_type": "code",
   "execution_count": null,
   "metadata": {},
   "source": [
    "# Filter data for category 'A' with values greater than the mean\n",
    "conditions = [\n",
    "    ('value', 'greater_than', stats['mean']),\n",
    "    ('category', 'equals', 'A')\n",
    "]\n",
    "\n",
    "filtered_data = processor.filter_data(conditions)\n",
    "print(f\"Found {len(filtered_data)} records matching the conditions\")\n",
    "filtered_data.head()"
   ]
  },
  {
   "cell_type": "markdown",
   "metadata": {},
   "source": [
    "## Interactive Features\n",
    "\n",
    "This demonstrates VS Code's variable explorer and data viewer capabilities."
   ]
  },
  {
   "cell_type": "code",
   "execution_count": null,
   "metadata": {},
   "source": [
    "# Create some variables for the variable explorer\n",
    "array_example = np.array([1, 2, 3, 4, 5])\n",
    "dict_example = {\"a\": 1, \"b\": 2, \"c\": [3, 4, 5]}\n",
    "series_example = pd.Series([1, 2, 3, 4, 5], index=['a', 'b', 'c', 'd', 'e'])\n",
    "\n",
    "# These variables should now be visible in the variable explorer\n",
    "print(\"Check the Variables window to explore these objects!\")"
   ]
  }
 ],
 "metadata": {
  "kernelspec": {
   "display_name": "Python 3",
   "language": "python",
   "name": "python3"
  },
  "language_info": {
   "codemirror_mode": {
    "name": "ipython",
    "version": 3
   },
   "file_extension": ".py",
   "mimetype": "text/x-python",
   "name": "python",
   "nbconvert_exporter": "python",
   "pygments_lexer": "ipython3",
   "version": "3.10.0"
  }
 },
 "nbformat": 4,
 "nbformat_minor": 4
}
